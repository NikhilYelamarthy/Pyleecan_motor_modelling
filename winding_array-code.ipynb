{
 "cells": [
  {
   "cell_type": "code",
   "execution_count": 95,
   "metadata": {},
   "outputs": [],
   "source": [
    "import numpy as np\n",
    "zs=24\n",
    "N=10\n",
    "qs=3\n",
    "nr=2\n",
    "A=np.zeros(int(zs/2))\n",
    "B=np.zeros(int(zs/2))\n",
    "winding_array=np.zeros((nr,zs,qs))\n",
    "for i in range(int(zs/2)):\n",
    "    if (i-1)%5 ==0 and i!= int(zs/2)-1:\n",
    "        A[i]=-1*N\n",
    "    if (i-3)%5 ==0:\n",
    "        A[i]= 1*N\n",
    "        B[i]= -1*N\n",
    "    if (i-5)%5 ==0 and i!=0:\n",
    "        B[i] = 1*N"
   ]
  },
  {
   "cell_type": "code",
   "execution_count": 96,
   "metadata": {},
   "outputs": [],
   "source": [
    "C=-A\n",
    "D=-B\n",
    "A=A[::-1]\n",
    "D=D[::-1]"
   ]
  },
  {
   "cell_type": "code",
   "execution_count": 97,
   "metadata": {},
   "outputs": [],
   "source": [
    "for q in range(qs):\n",
    "        if q==0:\n",
    "            winding_array[0,9:21,q]=B\n",
    "            winding_array[1,9:21,q]=C\n",
    "            winding_array[0,21:24,q]=A[0:3]\n",
    "            winding_array[1,21:24,q]=D[0:3]\n",
    "            winding_array[0,0:9,q]=A[3:12]\n",
    "            winding_array[1,0:9,q]=D[3:12]\n",
    "            continue\n",
    "        for i in range(2/):\n",
    "            winding_array[i,:,q]=np.roll(winding_array[i,:,0],8*q) "
   ]
  },
  {
   "cell_type": "code",
   "execution_count": 98,
   "metadata": {},
   "outputs": [
    {
     "name": "stdout",
     "output_type": "stream",
     "text": [
      "[[[ 10.   0.   0.]\n",
      "  [  0. -10.   0.]\n",
      "  [-10.   0.   0.]\n",
      "  [  0.  10.   0.]\n",
      "  [  0.   0. -10.]\n",
      "  [ 10.   0.   0.]\n",
      "  [  0.   0.  10.]\n",
      "  [-10.   0.   0.]\n",
      "  [  0.  10.   0.]\n",
      "  [  0.   0. -10.]\n",
      "  [  0. -10.   0.]\n",
      "  [  0.   0.  10.]\n",
      "  [-10.   0.   0.]\n",
      "  [  0.  10.   0.]\n",
      "  [ 10.   0.   0.]\n",
      "  [  0. -10.   0.]\n",
      "  [  0.   0.  10.]\n",
      "  [-10.   0.   0.]\n",
      "  [  0.   0. -10.]\n",
      "  [ 10.   0.   0.]\n",
      "  [  0. -10.   0.]\n",
      "  [  0.   0.  10.]\n",
      "  [  0.  10.   0.]\n",
      "  [  0.   0. -10.]]\n",
      "\n",
      " [[ 10.  -0.  -0.]\n",
      "  [ -0. -10.  -0.]\n",
      "  [ -0.  -0.  10.]\n",
      "  [-10.  -0.  -0.]\n",
      "  [ -0.  -0. -10.]\n",
      "  [ 10.  -0.  -0.]\n",
      "  [ -0. -10.  -0.]\n",
      "  [ -0.  -0.  10.]\n",
      "  [ -0.  10.  -0.]\n",
      "  [ -0.  -0. -10.]\n",
      "  [ 10.  -0.  -0.]\n",
      "  [ -0. -10.  -0.]\n",
      "  [-10.  -0.  -0.]\n",
      "  [ -0.  10.  -0.]\n",
      "  [ -0.  -0. -10.]\n",
      "  [ 10.  -0.  -0.]\n",
      "  [ -0.  -0.  10.]\n",
      "  [-10.  -0.  -0.]\n",
      "  [ -0.  10.  -0.]\n",
      "  [ -0.  -0. -10.]\n",
      "  [ -0. -10.  -0.]\n",
      "  [ -0.  -0.  10.]\n",
      "  [-10.  -0.  -0.]\n",
      "  [ -0.  10.  -0.]]]\n"
     ]
    }
   ],
   "source": [
    "print(winding_array)"
   ]
  }
 ],
 "metadata": {
  "kernelspec": {
   "display_name": "Python 3",
   "language": "python",
   "name": "python3"
  },
  "language_info": {
   "codemirror_mode": {
    "name": "ipython",
    "version": 3
   },
   "file_extension": ".py",
   "mimetype": "text/x-python",
   "name": "python",
   "nbconvert_exporter": "python",
   "pygments_lexer": "ipython3",
   "version": "3.7.9"
  }
 },
 "nbformat": 4,
 "nbformat_minor": 4
}
